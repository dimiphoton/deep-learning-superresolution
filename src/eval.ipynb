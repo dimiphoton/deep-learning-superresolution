{
 "metadata": {
  "language_info": {
   "codemirror_mode": {
    "name": "ipython",
    "version": 3
   },
   "file_extension": ".py",
   "mimetype": "text/x-python",
   "name": "python",
   "nbconvert_exporter": "python",
   "pygments_lexer": "ipython3",
   "version": "3.8.8"
  },
  "orig_nbformat": 2,
  "kernelspec": {
   "name": "python388jvsc74a57bd0cfa97515b48ec924051b6584906c775d898061829fcbf4ab570c29d743c4fef7",
   "display_name": "Python 3.8.8 64-bit ('deep_learning': conda)"
  }
 },
 "nbformat": 4,
 "nbformat_minor": 2,
 "cells": [
  {
   "cell_type": "code",
   "execution_count": null,
   "metadata": {},
   "outputs": [],
   "source": [
    "from train import train_gan\n",
    "from dataclass.MicroImageClass import MicroImages\n",
    "import torch\n",
    "from matplotlib import pyplot as plt\n",
    "from dataclass.prepare_data import prepare_datasets\n",
    "from dataclass.dataset import ImagesDataset, convert_image\n",
    "import torchvision\n",
    "import numpy as np\n",
    "from torchvision.utils import save_image\n",
    "from models.Generator import GeneratorV0\n",
    "from ignite.metrics import SSIM, PSNR\n",
    "from load_models import load_gen_02_05_2021, load_gen_03_05_2021, load_gen_04_05_2021, load_gen_06_05_2021, load_gen_05_05_2021, load_gen_mse_ssim, load_gen_mse_lpips"
   ]
  },
  {
   "cell_type": "code",
   "execution_count": null,
   "metadata": {},
   "outputs": [],
   "source": [
    "models_4_0_1 = [load_gen_mse_ssim(), load_gen_mse_lpips()]\n",
    "names_4_0_1 = [\"mse-ssim\", \"mse-lpips\"]\n",
    "\n",
    "models_4_1_1 = [load_gen_06_05_2021(), load_gen_05_05_2021()]\n",
    "names_4_1_1 = [\"06\", \"05\"]\n",
    "\n",
    "models_2 = [load_gen_02_05_2021(), load_gen_03_05_2021(), load_gen_04_05_2021()]\n",
    "names_2 = [\"02\", \"03\", \"04\"]"
   ]
  },
  {
   "cell_type": "code",
   "execution_count": null,
   "metadata": {},
   "outputs": [],
   "source": [
    "prepare_datasets(train_folders=['../data/DIV2K_train_HR'],\n",
    "                      test_folders=['../data/DIV2K_train_HR'],\n",
    "                      min_size=int(96*3),\n",
    "                      output_folder='dataclass/')"
   ]
  },
  {
   "cell_type": "code",
   "execution_count": null,
   "metadata": {},
   "outputs": [],
   "source": [
    "crop_size = 80\n",
    "scaling_factor = 4\n",
    "output_format = \"[0, 1]\"\n",
    "input_format = \"[0, 1]\"\n",
    "trainset_4_0_1 = ImagesDataset(\"dataclass/\", crop_size=crop_size, scaling_factor=scaling_factor, lr_format=input_format, hr_format=output_format)\n",
    "testset_4_0_1 = ImagesDataset(\"dataclass/\", crop_size=crop_size, scaling_factor=scaling_factor, lr_format=input_format, hr_format=output_format, train=False)\n",
    "\n",
    "scaling_factor = 4\n",
    "output_format = \"[-1, 1]\"\n",
    "input_format = \"[0, 1]\"\n",
    "trainset_4_1_1 = ImagesDataset(\"dataclass/\", crop_size=crop_size, scaling_factor=scaling_factor, lr_format=input_format, hr_format=output_format)\n",
    "testset_4_1_1 = ImagesDataset(\"dataclass/\", crop_size=crop_size, scaling_factor=scaling_factor, lr_format=input_format, hr_format=output_format, train=False)\n",
    "\n",
    "scaling_factor = 2\n",
    "output_format = \"[-1, 1]\"\n",
    "input_format = \"[0, 1]\"\n",
    "trainset_2 = ImagesDataset(\"dataclass/\", crop_size=crop_size, scaling_factor=scaling_factor, lr_format=input_format, hr_format=output_format)\n",
    "testset_2 = ImagesDataset(\"dataclass/\", crop_size=crop_size, scaling_factor=scaling_factor, lr_format=input_format, hr_format=output_format, train=False)"
   ]
  },
  {
   "cell_type": "code",
   "execution_count": null,
   "metadata": {},
   "outputs": [],
   "source": [
    "def test_ssim_score(model, testset, device=\"cuda:0\", output_format=\"[0, 1]\"):\n",
    "    testloader = torch.utils.data.DataLoader(testset, batch_size=32, shuffle=True)\n",
    "    test_ssim = SSIM(data_range=1.0, device=\"cpu\")\n",
    "    test_ssim.reset()\n",
    "    model.eval()\n",
    "    model.to(device)\n",
    "    i = 0 \n",
    "    n = 4\n",
    "    print_output=False\n",
    "    for (x, y) in testloader:  # [batch_size x 3 x w x h]\n",
    "        outputs = model(x.to(device))\n",
    "        if output_format != \"[0, 1]\":\n",
    "            outputs = convert_image(outputs, source=output_format, target=\"[0, 1]\")\n",
    "            y = convert_image(y, source=output_format, target=\"[0, 1]\")\n",
    "        test_ssim.update((outputs, y.to(device)))\n",
    "        i+=1\n",
    "        if print_output and i % n == n-1:\n",
    "            ssim_score =  test_ssim.compute()\n",
    "            test_ssim.reset()\n",
    "            print(f'ssim score: {ssim_score}')\n",
    "\n",
    "    ssim_score =  test_ssim.compute()\n",
    "    test_ssim.reset()\n",
    "    return ssim_score"
   ]
  },
  {
   "cell_type": "code",
   "execution_count": null,
   "metadata": {},
   "outputs": [],
   "source": [
    "def test_psnr_score(model, testset, device=\"cuda:0\", output_format=\"[0, 1]\"):\n",
    "    testloader = torch.utils.data.DataLoader(testset, batch_size=32, shuffle=True)\n",
    "    test_ssim = PSNR(data_range=1.0)\n",
    "    test_ssim.reset()\n",
    "    model.to(device)\n",
    "    i = 0\n",
    "    for (x, y) in testloader:  # [batch_size x 3 x w x h]\n",
    "        outputs = model(x.to(device))\n",
    "        if output_format != \"[0, 1]\":\n",
    "            outputs = convert_image(outputs, source=output_format, target=\"[0, 1]\")\n",
    "            y = convert_image(y, source=output_format, target=\"[0, 1]\")\n",
    "        test_ssim.update((outputs, y.to(device)))\n",
    "    ssim_score =  test_ssim.compute()\n",
    "    test_ssim.reset()\n",
    "    \n",
    "    return ssim_score"
   ]
  },
  {
   "cell_type": "code",
   "execution_count": null,
   "metadata": {},
   "outputs": [],
   "source": []
  },
  {
   "source": [
    "PNSR"
   ],
   "cell_type": "markdown",
   "metadata": {}
  },
  {
   "cell_type": "code",
   "execution_count": null,
   "metadata": {},
   "outputs": [],
   "source": [
    "# psnr_scores = []\n",
    "# for name, model in zip(names_2, models_2):\n",
    "#     psnr = test_psnr_score(model, testset=testset_2, output_format=\"[-1, 1]\")\n",
    "#     print(f\"model {name} has psnr of {psnr}\")\n",
    "# # model 02 has psnr of 28.00429515948226\n",
    "# # model 03 has psnr of 26.48203127708367\n",
    "# # model 04 has psnr of 25.2988156897758"
   ]
  },
  {
   "cell_type": "code",
   "execution_count": null,
   "metadata": {},
   "outputs": [],
   "source": [
    "# for name, model in zip(names_4_1_1, models_4_1_1):\n",
    "#     psnr = test_psnr_score(model, testset=testset_4_1_1, output_format=\"[-1, 1]\")\n",
    "#     print(f\"model {name} has psnr of {psnr}\")\n",
    "# # model 06 has psnr of 26.7430370322221\n",
    "# # model 05 has psnr of 26.623936126717187\n"
   ]
  },
  {
   "cell_type": "code",
   "execution_count": null,
   "metadata": {},
   "outputs": [],
   "source": [
    "# for name, model in zip(names_4_0_1, models_4_0_1):\n",
    "#     psnr = test_psnr_score(model, testset=testset_4_0_1, output_format=\"[0, 1]\")\n",
    "#     print(f\"model {name} has psnr of {psnr}\")\n",
    "# # model mse-ssim has psnr of 25.300528074403182\n",
    "# # model lpips has psnr of 21.18300433101087\n",
    "\n",
    "# # model mse-ssim has psnr of 24.468000624166926\n",
    "# # model mse-lpips has psnr of 23.04132645986445"
   ]
  },
  {
   "source": [
    "SSIM"
   ],
   "cell_type": "markdown",
   "metadata": {}
  },
  {
   "cell_type": "code",
   "execution_count": null,
   "metadata": {},
   "outputs": [],
   "source": [
    "# ssim_scores = []\n",
    "# for name, model in zip(names_2, models_2):\n",
    "#     ssim = test_ssim_score(model, testset=testset_2, output_format=\"[-1, 1]\")\n",
    "#     print(f\"model {name} has ssim of {ssim}\")\n",
    "# # model 02 has ssim of 0.7902148982918878\n",
    "# # model 03 has ssim of 0.7469442279186242\n",
    "# # model 04 has ssim of 0.722695882466259"
   ]
  },
  {
   "cell_type": "code",
   "execution_count": null,
   "metadata": {},
   "outputs": [],
   "source": [
    "# for name, model in zip(names_4_1_1, models_4_1_1):\n",
    "#     ssim = test_ssim_score(model, testset=testset_4_1_1, output_format=\"[-1, 1]\")\n",
    "#     print(f\"model {name} has ssim of {ssim}\")\n",
    "# # model 06 has ssim of 0.6911470746297319\n",
    "# # model 05 has ssim of 0.6890133445089939"
   ]
  },
  {
   "cell_type": "code",
   "execution_count": null,
   "metadata": {},
   "outputs": [],
   "source": [
    "# for name, model in zip(names_4_0_1, models_4_0_1):\n",
    "#     ssim = test_ssim_score(model, testset=testset_4_0_1, output_format=\"[0, 1]\")\n",
    "#     print(f\"model {name} has ssim of {ssim}\")\n",
    "# # model mse-ssim has ssim of 0.6789199548727454\n",
    "# # model lpips has ssim of 0.43677345014694735"
   ]
  },
  {
   "source": [
    "Images"
   ],
   "cell_type": "markdown",
   "metadata": {}
  },
  {
   "cell_type": "code",
   "execution_count": null,
   "metadata": {},
   "outputs": [],
   "source": [
    "crop_size = 384\n",
    "scaling_factor = 4\n",
    "output_format = \"[0, 1]\"\n",
    "input_format = \"[0, 1]\"\n",
    "trainset_4_0_1 = ImagesDataset(\"dataclass/\", crop_size=crop_size, scaling_factor=scaling_factor, lr_format=input_format, hr_format=output_format)\n",
    "testset_4_0_1 = ImagesDataset(\"dataclass/\", crop_size=crop_size, scaling_factor=scaling_factor, lr_format=input_format, hr_format=output_format, train=False)\n",
    "\n",
    "scaling_factor = 4\n",
    "output_format = \"[-1, 1]\"\n",
    "input_format = \"[0, 1]\"\n",
    "trainset_4_1_1 = ImagesDataset(\"dataclass/\", crop_size=crop_size, scaling_factor=scaling_factor, lr_format=input_format, hr_format=output_format)\n",
    "testset_4_1_1 = ImagesDataset(\"dataclass/\", crop_size=crop_size, scaling_factor=scaling_factor, lr_format=input_format, hr_format=output_format, train=False)\n",
    "\n",
    "scaling_factor = 2\n",
    "output_format = \"[-1, 1]\"\n",
    "input_format = \"[0, 1]\"\n",
    "trainset_2 = ImagesDataset(\"dataclass/\", crop_size=crop_size, scaling_factor=scaling_factor, lr_format=input_format, hr_format=output_format)\n",
    "testset_2 = ImagesDataset(\"dataclass/\", crop_size=crop_size, scaling_factor=scaling_factor, lr_format=input_format, hr_format=output_format, train=False)"
   ]
  },
  {
   "cell_type": "code",
   "execution_count": null,
   "metadata": {},
   "outputs": [],
   "source": [
    "def show_images(img):\n",
    "    img = img \n",
    "    npimg = img.numpy()\n",
    "    plt.imshow(np.transpose(npimg, (1, 2, 0)))\n",
    "    plt.show()"
   ]
  },
  {
   "cell_type": "code",
   "execution_count": null,
   "metadata": {},
   "outputs": [],
   "source": [
    "def compare_hr_images(model, evalset, device=\"cuda:0\", index=738, output_format=\"[0, 1]\"):\n",
    "    image_lr, image_hr = evalset[index]\n",
    "    with torch.no_grad():\n",
    "        ouput_lr = model(image_lr.unsqueeze(0).to(device))\n",
    "        if output_format != \"[0, 1]\":\n",
    "            ouput_lr = convert_image(ouput_lr, output_format, \"[0, 1]\")\n",
    "            image_hr = convert_image(image_hr, output_format, \"[0, 1]\")\n",
    "    show_images(torchvision.utils.make_grid([image_hr, ouput_lr.cpu().detach()[0]]))"
   ]
  },
  {
   "cell_type": "code",
   "execution_count": null,
   "metadata": {},
   "outputs": [],
   "source": [
    "def save_res_images(model, evalset, device=\"cuda:0\", index=738, output_format=\"[0, 1]\", model_name=\"\", name=\"\"):\n",
    "    image_lr, image_hr = evalset[index]\n",
    "    with torch.no_grad():\n",
    "        ouput_lr = model(image_lr.unsqueeze(0).to(device))\n",
    "        if output_format != \"[0, 1]\":\n",
    "            ouput_lr = convert_image(ouput_lr, output_format, \"[0, 1]\")\n",
    "            image_hr = convert_image(image_hr, output_format, \"[0, 1]\")\n",
    "    save_image(image_hr, \"figures/results/\"+name+ \"_real.png\")\n",
    "    save_image(ouput_lr, \"figures/results/\" + model_name + \"_\" +name+\"_fake.png\")"
   ]
  },
  {
   "cell_type": "code",
   "execution_count": null,
   "metadata": {},
   "outputs": [],
   "source": [
    "# compare_hr_images(models_4_1_1[1], testset_4_1_1, device=\"cuda:0\", index=5, output_format=\"[-1, 1]\")"
   ]
  },
  {
   "cell_type": "code",
   "execution_count": null,
   "metadata": {},
   "outputs": [],
   "source": [
    "# image_name = \"tiger_face\"\n",
    "# for name, model in zip(names_2, models_2):\n",
    "#     save_res_images(model, testset_2, output_format=\"[-1, 1]\", model_name=name, name=image_name)\n",
    "\n",
    "# for name, model in zip(names_4_1_1, models_4_1_1):\n",
    "#     save_res_images(model, testset_4_1_1, output_format=\"[-1, 1]\", model_name=name, name=image_name)\n",
    "# for name, model in zip(names_4_0_1, models_4_0_1):\n",
    "#     save_res_images(model, testset_4_0_1, output_format=\"[0, 1]\", model_name=name, name=image_name)"
   ]
  },
  {
   "cell_type": "code",
   "execution_count": null,
   "metadata": {},
   "outputs": [],
   "source": [
    "# image_name = \"books\"\n",
    "# index=5\n",
    "# for name, model in zip(names_2, models_2):\n",
    "#     save_res_images(model, testset_2, output_format=\"[-1, 1]\", model_name=name, name=image_name, index=index)\n",
    "# for name, model in zip(names_4_1_1, models_4_1_1):\n",
    "#     save_res_images(model, testset_4_1_1, output_format=\"[-1, 1]\", model_name=name, name=image_name, index=index)\n",
    "# for name, model in zip(names_4_0_1, models_4_0_1):\n",
    "#     save_res_images(model, testset_4_0_1, output_format=\"[0, 1]\", model_name=name, name=image_name, index=index)"
   ]
  },
  {
   "cell_type": "code",
   "execution_count": null,
   "metadata": {},
   "outputs": [],
   "source": [
    "# image_name = \"buildings\"\n",
    "# index=93\n",
    "# for name, model in zip(names_2, models_2):\n",
    "#     save_res_images(model, testset_2, output_format=\"[-1, 1]\", model_name=name, name=image_name, index=index)\n",
    "# for name, model in zip(names_4_1_1, models_4_1_1):\n",
    "#     save_res_images(model, testset_4_1_1, output_format=\"[-1, 1]\", model_name=name, name=image_name, index=index)\n",
    "# for name, model in zip(names_4_0_1, models_4_0_1):\n",
    "#     save_res_images(model, testset_4_0_1, output_format=\"[0, 1]\", model_name=name, name=image_name, index=index)"
   ]
  },
  {
   "cell_type": "code",
   "execution_count": null,
   "metadata": {},
   "outputs": [],
   "source": [
    "# image_name = \"butterfly\"\n",
    "# index=5\n",
    "# for name, model in zip(names_2, models_2):\n",
    "#     save_res_images(model, testset_2, output_format=\"[-1, 1]\", model_name=name, name=image_name, index=index)\n",
    "# for name, model in zip(names_4_1_1, models_4_1_1):\n",
    "#     save_res_images(model, testset_4_1_1, output_format=\"[-1, 1]\", model_name=name, name=image_name, index=index)\n",
    "# for name, model in zip(names_4_0_1, models_4_0_1):\n",
    "#     save_res_images(model, testset_4_0_1, output_format=\"[0, 1]\", model_name=name, name=image_name, index=index)"
   ]
  },
  {
   "cell_type": "code",
   "execution_count": null,
   "metadata": {},
   "outputs": [],
   "source": [
    "# name=\"starfish\"\n",
    "# save_res_images(models_4_0_1[0], testset_4_0_1, output_format=\"[0, 1]\", model_name=\"mse-ssim\", name=name, index=0)"
   ]
  },
  {
   "cell_type": "code",
   "execution_count": null,
   "metadata": {},
   "outputs": [],
   "source": [
    "# save_res_images(models_4_1_1[0], testset_4_1_1, output_format=\"[-1, 1]\", model_name=\"06\", name=name, index=0)"
   ]
  },
  {
   "cell_type": "code",
   "execution_count": null,
   "metadata": {},
   "outputs": [],
   "source": [
    "# save_res_images(models_4_0_1[1], testset_4_0_1, output_format=\"[0, 1]\", model_name=\"mse-lpips\", name=name, index=0)"
   ]
  },
  {
   "source": [
    "Archive"
   ],
   "cell_type": "markdown",
   "metadata": {}
  },
  {
   "cell_type": "code",
   "execution_count": null,
   "metadata": {},
   "outputs": [],
   "source": [
    "# if scaling_factor == 4 and output_format == \"[-1, 1]\":\n",
    "#     gen = load_gen_05_05_2021()\n",
    "#     ssim_score = test_ssim_score(gen, testset=testset, device=\"cuda:0\")\n",
    "#     print(f\"model gen_05_05_21 has ssim {ssim_score}\")\n",
    "#     psnr = test_psnr_score(gen, testset=testset)\n",
    "#     print(f\"model gen_05_05_21 has psnr {psnr}\")\n",
    "# elif scaling_factor == 4 and output_format == \"[0, 1]\":\n",
    "#     gen = load_gen_11_05_2021()\n",
    "#     ssim_score = test_ssim_score(gen, testset=testset, device=\"cuda:0\")\n",
    "#     print(f\"model gen_11_05_21 has ssim {ssim_score}\")\n",
    "#     psnr = test_psnr_score(gen, testset=testset)\n",
    "#     print(f\"model gen_11_05_21 has psnr {psnr}\")\n",
    "\n",
    "# model gen_11_05_21 has ssim 0.6303913038208995\n",
    "# model gen_11_05_21 has psnr 26.780872012435065\n",
    "\n",
    "    "
   ]
  },
  {
   "cell_type": "code",
   "execution_count": null,
   "metadata": {},
   "outputs": [],
   "source": [
    "# 11_05_21 -> 0.6256\n",
    "# 05-05-21 -> 0.0077"
   ]
  },
  {
   "cell_type": "code",
   "execution_count": null,
   "metadata": {},
   "outputs": [],
   "source": [
    "# upscale 2 : pnsr\n",
    "# if scaling_factor == 2 and output_format == \"[-1, 1]\":\n",
    "#     models = [load_gen_02_05_2021(), load_gen_03_05_2021()]\n",
    "#     names = [\"gen_02_05_2021\", \"gen_03_05_2021\"]\n",
    "#     psnr_scores = []\n",
    "#     for name, model in zip(names, models):\n",
    "#         psnr = test_psnr_score(model, testset=testset)\n",
    "#         print(f\"model {name} has psnr of {psnr}\")\n"
   ]
  },
  {
   "cell_type": "code",
   "execution_count": null,
   "metadata": {},
   "outputs": [],
   "source": [
    "# upscale 2 : ssim\n",
    "# if scaling_factor == 2 and output_format == \"[-1, 1]\":\n",
    "#     models = [load_gen_02_05_2021(), load_gen_03_05_2021()]\n",
    "#     names = [\"gen_02_05_2021\", \"gen_03_05_2021\"]\n",
    "#     psnr_scores = []\n",
    "#     for name, model in zip(names, models):\n",
    "#         ssim = test_ssim_score(model, testset=testset)\n",
    "#         print(f\"model {name} has ssim of {ssim}\")"
   ]
  },
  {
   "cell_type": "code",
   "execution_count": null,
   "metadata": {},
   "outputs": [],
   "source": []
  }
 ]
}