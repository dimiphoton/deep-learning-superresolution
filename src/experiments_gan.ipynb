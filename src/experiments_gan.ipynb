{
 "metadata": {
  "language_info": {
   "codemirror_mode": {
    "name": "ipython",
    "version": 3
   },
   "file_extension": ".py",
   "mimetype": "text/x-python",
   "name": "python",
   "nbconvert_exporter": "python",
   "pygments_lexer": "ipython3",
   "version": "3.8.8"
  },
  "orig_nbformat": 2,
  "kernelspec": {
   "name": "python388jvsc74a57bd0cfa97515b48ec924051b6584906c775d898061829fcbf4ab570c29d743c4fef7",
   "display_name": "Python 3.8.8 64-bit ('deep_learning': conda)"
  }
 },
 "nbformat": 4,
 "nbformat_minor": 2,
 "cells": [
  {
   "source": [
    "This notebook contains some experiments.\n",
    "It does not contain important code."
   ],
   "cell_type": "markdown",
   "metadata": {}
  },
  {
   "cell_type": "code",
   "execution_count": null,
   "metadata": {},
   "outputs": [],
   "source": [
    "import numpy as np\n",
    "import torch, torchvision\n",
    "import torch.nn as nn\n",
    "from torchvision import datasets\n",
    "import torchvision.transforms as transforms\n",
    "import matplotlib.pyplot as plt \n",
    "from PIL import Image\n",
    "from models.SimpleUpscale import SimpleUpscale\n",
    "from models.SimpleConv import SimpleConv\n",
    "from train import train_model\n",
    "from dataclass.ImageClass import UpscaledImages\n",
    "from time import time\n",
    "from torch.utils.data import Dataset\n",
    "from torchvision.transforms import ToTensor, Resize, Compose\n",
    "from models.Generator import Generator"
   ]
  },
  {
   "cell_type": "code",
   "execution_count": null,
   "metadata": {},
   "outputs": [],
   "source": [
    "class MicroImages(Dataset):\n",
    "    def __init__(self, root_dir, resize_size=48):\n",
    "        \"\"\"Initializes a dataset containing images and labels.\"\"\"\n",
    "        super().__init__()\n",
    "        self.root_dir = root_dir\n",
    "        self.resize_size = resize_size\n",
    "        self.transform_lr = Compose([ToTensor(), Resize((resize_size, resize_size))])\n",
    "        self.transform_hr = Compose([ToTensor(), Resize((2*resize_size, 2*resize_size))])\n",
    "        # self.transform_hr = Compose([ToTensor(), torch.nn.ZeroPad2d(2*resize_size),\n",
    "        #                         transforms.CenterCrop(2*resize_size)])\n",
    "\n",
    "        self.data = []\n",
    "        for i in range(64):\n",
    "            image_hr_dir = self.root_dir + 'DIV2K_train_HR/' + \"{:0>4}\".format(i+1) + '.png'\n",
    "            image_lr_dir = self.root_dir + 'DIV2K_train_LR_bicubic/X2/' + \"{:0>4}x2\".format(i+1) + '.png'\n",
    "            image_hr = Image.open(image_hr_dir)\n",
    "            image_lr = Image.open(image_lr_dir)\n",
    "            self.data.append((self.transform_lr(image_lr), self.transform_hr(image_hr)))\n",
    "\n",
    "        self.size=len(self.data)\n",
    "\n",
    "    def __len__(self):\n",
    "        \"\"\"Returns the size of the dataset.\"\"\"\n",
    "        return len(self.data)\n",
    "\n",
    "    def __getitem__(self, index):\n",
    "        \"\"\"Returns the index-th data item of the dataset.\"\"\"\n",
    "\n",
    "        return self.data[index]"
   ]
  },
  {
   "cell_type": "code",
   "execution_count": null,
   "metadata": {},
   "outputs": [],
   "source": [
    "trainset = MicroImages(\"../data/\")\n"
   ]
  },
  {
   "cell_type": "code",
   "execution_count": null,
   "metadata": {},
   "outputs": [],
   "source": [
    "class ResidualBlock(nn.Module):\n",
    "    def __init__(self, nbr_channels=64):\n",
    "        super(ResidualBlock, self).__init__()\n",
    "\n",
    "        self.net = nn.Sequential(     \n",
    "            nn.Conv2d(nbr_channels,  nbr_channels, kernel_size=3,  stride=1, padding=1, bias=False),   nn.BatchNorm2d(nbr_channels), nn.PReLU(),\n",
    "            nn.Conv2d(nbr_channels,  nbr_channels, kernel_size=3,  stride=1, padding=1, bias=False),   nn.BatchNorm2d(nbr_channels))\n",
    "\n",
    "    def forward(self, x):\n",
    "        return x + self.net(x) # skip connection"
   ]
  },
  {
   "cell_type": "code",
   "execution_count": null,
   "metadata": {},
   "outputs": [],
   "source": [
    "class Generator(nn.Module):\n",
    "    def __init__(self, nbr_channels=64, nbr_blocks=3):\n",
    "        super(Generator, self).__init__()\n",
    "\n",
    "        self.entry_block = nn.Sequential(nn.Conv2d(3, nbr_channels, kernel_size=9, stride=1, padding=4), nn.PReLU())\n",
    "\n",
    "        self.residual_blocks = nn.Sequential(*[ResidualBlock(nbr_channels=64) for _ in range(nbr_blocks)])\n",
    "\n",
    "        self.upscale_block = nn.Sequential( nn.Conv2d(nbr_channels, nbr_channels*4, kernel_size=3, stride=1, padding=1),\n",
    "                                            nn.PixelShuffle(2),\n",
    "                                            nn.PReLU())\n",
    "\n",
    "        self.end_block = nn.Conv2d(nbr_channels, 3, kernel_size=9, stride=1, padding=4)\n",
    "\n",
    "    def forward(self, x):\n",
    "        x = self.entry_block(x)\n",
    "        x = self.residual_blocks(x) + x\n",
    "        x = self.upscale_block(x)\n",
    "        x = self.end_block(x)\n",
    "        return x"
   ]
  },
  {
   "cell_type": "code",
   "execution_count": null,
   "metadata": {},
   "outputs": [],
   "source": [
    "class DownBlock(nn.Module):\n",
    "    def __init__(self, nbr_channels=64):\n",
    "        super(DownBlock, self).__init__()\n",
    "\n",
    "        self.net = nn.Sequential(     \n",
    "            nn.Conv2d(nbr_channels,  nbr_channels, kernel_size=3,  stride=2, padding=1, bias=False),   nn.BatchNorm2d(nbr_channels), nn.LeakyReLU())\n",
    "\n",
    "    def forward(self, x):\n",
    "        return self.net(x) # skip connection\n",
    "\n",
    "class ConvBlock(nn.Module):\n",
    "    def __init__(self, nbr_channels=64):\n",
    "        super(ConvBlock, self).__init__()\n",
    "\n",
    "        self.net = nn.Sequential(     \n",
    "            nn.Conv2d(nbr_channels,  nbr_channels, kernel_size=3,  stride=1, padding=1, bias=False),   nn.BatchNorm2d(nbr_channels), nn.LeakyReLU())\n",
    "\n",
    "    def forward(self, x):\n",
    "        return self.net(x)\n",
    "\n",
    "class Discriminator(nn.Module):\n",
    "    def __init__(self, nbr_channels=64):\n",
    "        super(Discriminator, self).__init__()\n",
    "\n",
    "        self.entry_block = nn.Sequential(nn.Conv2d(3, nbr_channels, kernel_size=3, stride=1, padding=1), nn.LeakyReLU())\n",
    "\n",
    "        self.conv_blocks = nn.Sequential(   DownBlock(nbr_channels=nbr_channels),\n",
    "                                            ConvBlock(nbr_channels=nbr_channels),\n",
    "                                            DownBlock(nbr_channels=nbr_channels),\n",
    "                                            ConvBlock(nbr_channels=nbr_channels),\n",
    "                                            DownBlock(nbr_channels=nbr_channels),\n",
    "                                            ConvBlock(nbr_channels=nbr_channels),\n",
    "                                            DownBlock(nbr_channels=nbr_channels),\n",
    "                                            nn.Conv2d(nbr_channels, 1, kernel_size=3,stride=1, padding=1))\n",
    "\n",
    "        self.pool = nn.AdaptiveAvgPool2d((32, 32))\n",
    "\n",
    "        self.end_block = nn.Sequential( nn.Linear(1024, 32),\n",
    "                                        nn.LeakyReLU(),\n",
    "                                        nn.Linear(32, 1)) # do not use sigmoid which is in BCEWithLogitsLoss loss function\n",
    "\n",
    "    def forward(self, x):\n",
    "        x = self.entry_block(x)\n",
    "        x = self.conv_blocks(x)\n",
    "        x = self.pool(x)\n",
    "        x = self.end_block(x.view(x.size(0), 1024))\n",
    "        return x"
   ]
  },
  {
   "cell_type": "code",
   "execution_count": null,
   "metadata": {},
   "outputs": [],
   "source": []
  },
  {
   "cell_type": "code",
   "execution_count": null,
   "metadata": {},
   "outputs": [],
   "source": [
    "def train_gan(trainset: torch.utils.data.Dataset, lr: float=0.0001, batch_size: int=16, gpu: bool=True, save_file: str=None, use_amp:bool=True, log:bool=True, auto_tuner:bool=True, epochs: int=4, gen_args: dict=None, dis_args: dict=None):\n",
    "    # Initialization\n",
    "    trainloader = torch.utils.data.DataLoader(trainset, batch_size=batch_size, shuffle=True, pin_memory=True)\n",
    "    torch.backends.cudnn.benchmark = auto_tuner\n",
    "    device = \"cuda:0\" if gpu and torch.cuda.is_available() else \"cpu\"\n",
    "    model = Generator(**gen_args).to(device) if gen_args is not None else Generator().to(device)\n",
    "    discriminator = Discriminator(**dis_args).to(device) if dis_args is not None else Discriminator().to(device)\n",
    "    optimizer = torch.optim.Adam(model.parameters(), lr=lr)\n",
    "    d_optimizer = torch.optim.Adam(discriminator.parameters(), lr=lr)\n",
    "    criterion = nn.MSELoss()\n",
    "    d_criterion = nn.BCEWithLogitsLoss()\n",
    "\n",
    "    # Training\n",
    "    start = time()\n",
    "    epoch_train_losses = []\n",
    "    d_losses = []\n",
    "    for i in range(epochs):\n",
    "        epoch_start = time()\n",
    "        tmp_loss = []\n",
    "        d_tmp_loss = []\n",
    "        for (x, y) in trainloader: # [batch_size x 3 x w x h]\n",
    "            with torch.cuda.amp.autocast(enabled=use_amp):\n",
    "                real_label = torch.full((x.size(0), 1), 1, dtype=x.dtype).to(device)\n",
    "                fake_label = torch.full((x.size(0), 1), 0, dtype=x.dtype).to(device)\n",
    "                # Update D\n",
    "                discriminator.zero_grad(set_to_none=True)\n",
    "\n",
    "                outputs = model(x.to(device))\n",
    "\n",
    "                d_loss_real = d_criterion(discriminator(y.to(device)), real_label)\n",
    "                d_loss_fake = d_criterion(discriminator(outputs.detach()), fake_label)\n",
    "                d_loss = d_loss_real + d_loss_fake\n",
    "\n",
    "                d_tmp_loss.append(d_loss.detach())\n",
    "\n",
    "                d_loss.backward()\n",
    "                d_optimizer.step()\n",
    "\n",
    "                # Update G\n",
    "                model.zero_grad(set_to_none=True)\n",
    "\n",
    "                content_loss = criterion(outputs, y.to(device).detach())\n",
    "                gan_loss = d_criterion(discriminator(outputs), real_label)\n",
    "                g_loss = content_loss + 0.001 * gan_loss\n",
    "\n",
    "                tmp_loss.append(g_loss.detach())\n",
    "\n",
    "                g_loss.backward()\n",
    "                optimizer.step()\n",
    "            \n",
    "        d_losses.append(torch.tensor(d_tmp_loss).mean())\n",
    "        epoch_train_losses.append(torch.tensor(tmp_loss).mean())\n",
    "        if log:\n",
    "            print(f\"Epoch {i+1} in {(time() - epoch_start):.2f}s, total time: {(time() - start):.2f}s, loss: {epoch_train_losses[-1]:.8f}, remaing time: {(epochs - i) * (time() - epoch_start):.2f}s\")\n",
    "        if save_file is not None:\n",
    "            torch.save({\n",
    "                    'epoch': i+1,\n",
    "                    'model_state_dict': model.state_dict(),\n",
    "                    'optimizer_state_dict': optimizer.state_dict(),\n",
    "                    'd_optimizer_state_dict': d_optimizer.state_dict(),\n",
    "                    'g_loss': epoch_train_losses[-1],\n",
    "                    }, save_file)\n",
    "\n",
    "    end = time()\n",
    "    print(f\"Training took {end - start:.2f} seconds for {epochs} epochs, or {(end - start)/epochs:.2f} seconds per epochs\")\n",
    "    print(f\"Final loss {epoch_train_losses[-1]:.8f}\")"
   ]
  },
  {
   "cell_type": "code",
   "execution_count": null,
   "metadata": {},
   "outputs": [],
   "source": [
    "train_gan(trainset)"
   ]
  },
  {
   "cell_type": "code",
   "execution_count": null,
   "metadata": {},
   "outputs": [],
   "source": [
    "trainloader = torch.utils.data.DataLoader(trainset, batch_size=16, shuffle=True, pin_memory=True)"
   ]
  },
  {
   "cell_type": "code",
   "execution_count": null,
   "metadata": {},
   "outputs": [],
   "source": [
    "torch.backends.cudnn.benchmark = True"
   ]
  },
  {
   "cell_type": "code",
   "execution_count": null,
   "metadata": {},
   "outputs": [],
   "source": [
    "device = \"cuda:0\" if torch.cuda.is_available() else \"cpu\""
   ]
  },
  {
   "cell_type": "code",
   "execution_count": null,
   "metadata": {},
   "outputs": [],
   "source": [
    "model = Generator().to(device)\n",
    "discriminator = Discriminator().to(device)\n",
    "learning_rate=0.0001\n",
    "# gan_lr = 0.0001\n",
    "optimizer = torch.optim.Adam(model.parameters(), lr=learning_rate)\n",
    "# g_optimizer = torch.optim.Adam(model.parameters(), lr=gan_lr)\n",
    "d_optimizer = torch.optim.Adam(discriminator.parameters(), lr=learning_rate)\n",
    "criterion = nn.MSELoss()\n",
    "d_criterion = nn.BCEWithLogitsLoss()"
   ]
  },
  {
   "cell_type": "code",
   "execution_count": null,
   "metadata": {},
   "outputs": [],
   "source": [
    "PATH = 'models/save/gan_model_exp.pt'"
   ]
  },
  {
   "cell_type": "code",
   "execution_count": null,
   "metadata": {},
   "outputs": [],
   "source": [
    "use_amp = True"
   ]
  },
  {
   "cell_type": "code",
   "execution_count": null,
   "metadata": {},
   "outputs": [],
   "source": [
    "print(torch.cuda.memory_summary())"
   ]
  },
  {
   "cell_type": "code",
   "execution_count": null,
   "metadata": {
    "tags": []
   },
   "outputs": [],
   "source": [
    "# Training\n",
    "test = False\n",
    "epochs = 4\n",
    "\n",
    "start = time()\n",
    "epoch_train_losses = []\n",
    "d_losses = []\n",
    "for i in range(epochs):\n",
    "    tmp_loss = []\n",
    "    d_tmp_loss = []\n",
    "    for (x, y) in trainloader: # [batch_size x 3 x w x h]\n",
    "        with torch.cuda.amp.autocast(enabled=use_amp):\n",
    "            real_label = torch.full((x.size(0), 1), 1, dtype=x.dtype).to(device)\n",
    "            fake_label = torch.full((x.size(0), 1), 0, dtype=x.dtype).to(device)\n",
    "            # Update D\n",
    "            discriminator.zero_grad(set_to_none=True)\n",
    "\n",
    "            outputs = model(x.to(device))\n",
    "\n",
    "            d_loss_real = d_criterion(discriminator(y.to(device)), real_label)\n",
    "            d_loss_fake = d_criterion(discriminator(outputs.detach()), fake_label)\n",
    "            d_loss = d_loss_real + d_loss_fake\n",
    "\n",
    "            d_tmp_loss.append(d_loss.detach())\n",
    "\n",
    "            d_loss.backward()\n",
    "            d_optimizer.step()\n",
    "\n",
    "            # Update G\n",
    "            model.zero_grad(set_to_none=True)\n",
    "\n",
    "            content_loss = criterion(outputs, y.to(device).detach())\n",
    "            gan_loss = d_criterion(discriminator(outputs), real_label)\n",
    "            g_loss = content_loss + 0.001 * gan_loss\n",
    "\n",
    "            tmp_loss.append(g_loss.detach())\n",
    "\n",
    "            g_loss.backward()\n",
    "            optimizer.step()\n",
    "        \n",
    "    d_losses.append(torch.tensor(d_tmp_loss).mean())\n",
    "    epoch_train_losses.append(torch.tensor(tmp_loss).mean())\n",
    "    print(f\"Epoch {i+1}\")\n",
    "    torch.save({\n",
    "            'epoch': i+1,\n",
    "            'model_state_dict': model.state_dict(),\n",
    "            'optimizer_state_dict': optimizer.state_dict(),\n",
    "            'd_optimizer_state_dict': d_optimizer.state_dict(),\n",
    "            'g_loss': epoch_train_losses[-1],\n",
    "            }, PATH)\n",
    "\n",
    "end = time()\n",
    "print(f\"Training took {end - start} seconds for {epochs} epochs, or {(end - start)/epochs} seconds per epochs\")\n",
    "\n",
    "torch.cuda.empty_cache()\n",
    "\n"
   ]
  },
  {
   "cell_type": "code",
   "execution_count": null,
   "metadata": {},
   "outputs": [],
   "source": [
    "plt.plot(range(epochs), epoch_train_losses)"
   ]
  },
  {
   "cell_type": "code",
   "execution_count": null,
   "metadata": {},
   "outputs": [],
   "source": [
    "plt.plot(range(epochs), d_losses)"
   ]
  },
  {
   "cell_type": "code",
   "execution_count": null,
   "metadata": {},
   "outputs": [],
   "source": [
    "image_lr, image_hr = trainset[0]"
   ]
  },
  {
   "cell_type": "code",
   "execution_count": null,
   "metadata": {},
   "outputs": [],
   "source": [
    "def show_images(img):\n",
    "    img = img \n",
    "    npimg = img.numpy()\n",
    "    plt.imshow(np.transpose(npimg, (1, 2, 0)))\n",
    "    plt.show()"
   ]
  },
  {
   "cell_type": "code",
   "execution_count": null,
   "metadata": {},
   "outputs": [],
   "source": [
    "show_images(torchvision.utils.make_grid([image_lr]))\n"
   ]
  },
  {
   "cell_type": "code",
   "execution_count": null,
   "metadata": {},
   "outputs": [],
   "source": [
    "show_images(torchvision.utils.make_grid([(image_hr)]))\n"
   ]
  },
  {
   "cell_type": "code",
   "execution_count": null,
   "metadata": {},
   "outputs": [],
   "source": [
    "with torch.no_grad():\n",
    "    ouput_lr = model(image_lr.unsqueeze(0).to(device))\n",
    "show_images(torchvision.utils.make_grid(ouput_lr.cpu().detach()))\n"
   ]
  },
  {
   "cell_type": "code",
   "execution_count": null,
   "metadata": {},
   "outputs": [],
   "source": [
    "with torch.no_grad():\n",
    "    ouput_hr = model(image_hr.unsqueeze(0).to(device))\n",
    "show_images(torchvision.utils.make_grid(ouput_hr.cpu().detach()))\n"
   ]
  },
  {
   "cell_type": "code",
   "execution_count": null,
   "metadata": {},
   "outputs": [],
   "source": [
    "show_images(torchvision.utils.make_grid(list(map(lambda x: x[0], trainset[0:5]))))"
   ]
  },
  {
   "cell_type": "code",
   "execution_count": null,
   "metadata": {},
   "outputs": [],
   "source": [
    "with torch.no_grad():\n",
    "    show_images(torchvision.utils.make_grid(list(map(lambda x: model(x[0].unsqueeze(0).to(device))[0].detach().to(\"cpu\"), trainset[0:5]))))"
   ]
  },
  {
   "cell_type": "code",
   "execution_count": null,
   "metadata": {},
   "outputs": [],
   "source": [
    "x.size()"
   ]
  },
  {
   "cell_type": "code",
   "execution_count": null,
   "metadata": {},
   "outputs": [],
   "source": [
    "print(torch.cuda.memory_summary())"
   ]
  },
  {
   "cell_type": "code",
   "execution_count": null,
   "metadata": {},
   "outputs": [],
   "source": [
    "def test_mem(bs=1, w=256):\n",
    "    x_size = (bs, 3, w, w)\n",
    "    x = torch.rand(x_size)\n",
    "    with torch.no_grad():\n",
    "        y = model(x.to(device))"
   ]
  },
  {
   "cell_type": "code",
   "execution_count": null,
   "metadata": {},
   "outputs": [],
   "source": [
    "# for i in range(40, 800, 20):\n",
    "#     try:\n",
    "#         test_mem(bs=32, w=i)\n",
    "#     except Exception as e:\n",
    "#         print(f\"Largest size was {i-20}\")\n",
    "#         print(e)\n",
    "#         break\n",
    "# Optimal conditions:\n",
    "# Max for bs=1 : 680\n",
    "# Max for bs=2 : 360\n",
    "# Max for bs=4 : 340\n",
    "# Max for bs=8 : 220\n",
    "# Max for bs=16 : 140\n",
    "# Max for bs=32 : 140"
   ]
  },
  {
   "cell_type": "code",
   "execution_count": null,
   "metadata": {},
   "outputs": [],
   "source": [
    "# max_width = []\n",
    "# times = []\n",
    "# pixels = []\n",
    "# step = 20\n",
    "# start_ = 0\n",
    "# end_ = 0\n",
    "# for bs in range(1, 32, 1):\n",
    "#     for w in range(40, 800, step):\n",
    "#         try:\n",
    "#             start=time()\n",
    "#             test_mem(bs=bs, w=w)\n",
    "#             end=time()\n",
    "#         except Exception as e:\n",
    "#             torch.cuda.empty_cache()\n",
    "#             max_width.append(w-step)\n",
    "#             times.append(end_-start_)\n",
    "#             pixels.append((w-step)*(w-step)*bs)\n",
    "#             print(f\"Batch size {bs}, Largest size was {w-step}\")\n",
    "#             print(e)\n",
    "#             break\n",
    "#         finally:\n",
    "#             start_=start\n",
    "#             end_=end"
   ]
  },
  {
   "cell_type": "code",
   "execution_count": null,
   "metadata": {},
   "outputs": [],
   "source": [
    "# plt.plot(range(1, 32), max_width)\n",
    "# plt.plot(range(1, 32), [p/1000 for p in pixels])\n",
    "# plt.plot(range(1, 32), [t*100 for t in times])\n",
    "# plt.plot(range(1, 32), [(p/t)/1000 for p,t in zip(pixels, times)])\n",
    "\n",
    "# plt.xlabel(\"width\")\n",
    "# plt.ylabel(\"batch size\")\n",
    "# plt.savefig(\"batch-size-analysis-complete.pdf\")\n",
    "\n"
   ]
  },
  {
   "cell_type": "code",
   "execution_count": null,
   "metadata": {},
   "outputs": [],
   "source": [
    "# del x\n",
    "torch.cuda.empty_cache()"
   ]
  },
  {
   "cell_type": "code",
   "execution_count": null,
   "metadata": {},
   "outputs": [],
   "source": [
    "x=None\n",
    "y=None\n",
    "if x:\n",
    "    del x\n",
    "if y:\n",
    "    del y\n",
    "torch.cuda.empty_cache()"
   ]
  },
  {
   "cell_type": "code",
   "execution_count": null,
   "metadata": {},
   "outputs": [],
   "source": [
    "test_x = torch.rand((16, 1, 32, 32)).view(16, 1024)"
   ]
  },
  {
   "cell_type": "code",
   "execution_count": null,
   "metadata": {},
   "outputs": [],
   "source": [
    "test_y = nn.Linear(1024, 32)(test_x)\n",
    "test_y = nn.ReLU()(test_y)\n",
    "test_y = nn.Linear(32, 1)(test_y)\n",
    "test_y = nn.Sigmoid()(test_y)"
   ]
  },
  {
   "cell_type": "code",
   "execution_count": null,
   "metadata": {},
   "outputs": [],
   "source": [
    "test_x.size()"
   ]
  },
  {
   "cell_type": "code",
   "execution_count": null,
   "metadata": {},
   "outputs": [],
   "source": [
    "print(discriminator)"
   ]
  },
  {
   "cell_type": "code",
   "execution_count": null,
   "metadata": {},
   "outputs": [],
   "source": [
    "len(d_losses)"
   ]
  }
 ]
}