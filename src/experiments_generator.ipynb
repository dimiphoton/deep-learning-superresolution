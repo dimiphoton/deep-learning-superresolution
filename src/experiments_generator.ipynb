{
 "metadata": {
  "language_info": {
   "codemirror_mode": {
    "name": "ipython",
    "version": 3
   },
   "file_extension": ".py",
   "mimetype": "text/x-python",
   "name": "python",
   "nbconvert_exporter": "python",
   "pygments_lexer": "ipython3",
   "version": "3.8.8"
  },
  "orig_nbformat": 2,
  "kernelspec": {
   "name": "python388jvsc74a57bd0cfa97515b48ec924051b6584906c775d898061829fcbf4ab570c29d743c4fef7",
   "display_name": "Python 3.8.8 64-bit ('deep_learning': conda)"
  }
 },
 "nbformat": 4,
 "nbformat_minor": 2,
 "cells": [
  {
   "source": [
    "This notebook contains some experiments.\n",
    "It does not contain important code."
   ],
   "cell_type": "markdown",
   "metadata": {}
  },
  {
   "cell_type": "code",
   "execution_count": null,
   "metadata": {},
   "outputs": [],
   "source": [
    "import numpy as np\n",
    "import torch, torchvision\n",
    "import torch.nn as nn\n",
    "from torchvision import datasets\n",
    "import torchvision.transforms as transforms\n",
    "import matplotlib.pyplot as plt \n",
    "from PIL import Image\n",
    "from models.SimpleUpscale import SimpleUpscale\n",
    "from models.SimpleConv import SimpleConv\n",
    "from train import train_model\n",
    "from dataclass.ImageClass import UpscaledImages\n",
    "from time import time\n",
    "from torch.utils.data import Dataset\n",
    "from torchvision.transforms import ToTensor, Resize, Compose\n",
    "from models.Generator import Generator"
   ]
  },
  {
   "cell_type": "code",
   "execution_count": null,
   "metadata": {},
   "outputs": [],
   "source": []
  },
  {
   "cell_type": "code",
   "execution_count": null,
   "metadata": {},
   "outputs": [],
   "source": [
    "class MicroImages(Dataset):\n",
    "    def __init__(self, root_dir):\n",
    "        \"\"\"Initializes a dataset containing images and labels.\"\"\"\n",
    "        super().__init__()\n",
    "        self.root_dir = root_dir\n",
    "        resize_size = 128\n",
    "        self.transform_lr = Compose([ToTensor(), Resize((resize_size, resize_size))])\n",
    "        self.transform_hr = Compose([ToTensor(), Resize((2*resize_size, 2*resize_size))])\n",
    "        # self.transform_hr = Compose([ToTensor(), torch.nn.ZeroPad2d(2*resize_size),\n",
    "        #                         transforms.CenterCrop(2*resize_size)])\n",
    "\n",
    "        self.data = []\n",
    "        for i in range(800):\n",
    "            image_hr_dir = self.root_dir + 'DIV2K_train_HR/' + \"{:0>4}\".format(i+1) + '.png'\n",
    "            image_lr_dir = self.root_dir + 'DIV2K_train_LR_bicubic/X2/' + \"{:0>4}x2\".format(i+1) + '.png'\n",
    "            image_hr = Image.open(image_hr_dir)\n",
    "            image_lr = Image.open(image_lr_dir)\n",
    "            self.data.append((self.transform_lr(image_lr), self.transform_hr(image_hr)))\n",
    "\n",
    "        self.size=len(self.data)\n",
    "\n",
    "    def __len__(self):\n",
    "        \"\"\"Returns the size of the dataset.\"\"\"\n",
    "        return len(self.data)\n",
    "\n",
    "    def __getitem__(self, index):\n",
    "        \"\"\"Returns the index-th data item of the dataset.\"\"\"\n",
    "\n",
    "        return self.data[index]"
   ]
  },
  {
   "cell_type": "code",
   "execution_count": null,
   "metadata": {},
   "outputs": [],
   "source": [
    "trainset = MicroImages(\"../data/\")\n"
   ]
  },
  {
   "cell_type": "code",
   "execution_count": null,
   "metadata": {},
   "outputs": [],
   "source": [
    "trainloader = torch.utils.data.DataLoader(trainset, batch_size=8, shuffle=True)"
   ]
  },
  {
   "cell_type": "code",
   "execution_count": null,
   "metadata": {},
   "outputs": [],
   "source": [
    "class ResidualBlock(nn.Module):\n",
    "    def __init__(self, nbr_channels=64):\n",
    "        super(ResidualBlock, self).__init__()\n",
    "\n",
    "        self.net = nn.Sequential(     \n",
    "            nn.Conv2d(nbr_channels,  nbr_channels, kernel_size=3,  stride=1, padding=1),   nn.BatchNorm2d(nbr_channels), nn.PReLU(),\n",
    "            nn.Conv2d(nbr_channels,  nbr_channels, kernel_size=3,  stride=1, padding=1),   nn.BatchNorm2d(nbr_channels))\n",
    "\n",
    "    def forward(self, x):\n",
    "        return x + self.net(x) # skip connection"
   ]
  },
  {
   "cell_type": "code",
   "execution_count": null,
   "metadata": {},
   "outputs": [],
   "source": [
    "class Generator(nn.Module):\n",
    "    def __init__(self, nbr_channels=64):\n",
    "        super(Generator, self).__init__()\n",
    "\n",
    "        self.entry_block = nn.Sequential(nn.Conv2d(3, nbr_channels, kernel_size=9, stride=1, padding=4), nn.PReLU())\n",
    "\n",
    "        self.residual_blocks = nn.Sequential(ResidualBlock(nbr_channels=64), ResidualBlock(nbr_channels=64), ResidualBlock(nbr_channels=64))\n",
    "\n",
    "        self.upscale_block = nn.Sequential( nn.Conv2d(nbr_channels, nbr_channels*4, kernel_size=3, stride=1, padding=1),\n",
    "                                            nn.PixelShuffle(2),\n",
    "                                            nn.PReLU())\n",
    "\n",
    "        self.end_block = nn.Conv2d(nbr_channels, 3, kernel_size=9, stride=1, padding=4)\n",
    "\n",
    "    def forward(self, x):\n",
    "        x = self.entry_block(x)\n",
    "        x = self.residual_blocks(x) + x\n",
    "        x = self.upscale_block(x)\n",
    "        x = self.end_block(x)\n",
    "        return x"
   ]
  },
  {
   "cell_type": "code",
   "execution_count": null,
   "metadata": {},
   "outputs": [],
   "source": [
    "device = \"cuda:0\" if torch.cuda.is_available() else \"cpu\""
   ]
  },
  {
   "cell_type": "code",
   "execution_count": null,
   "metadata": {},
   "outputs": [],
   "source": [
    "model = Generator().to(device)\n",
    "learning_rate=0.0005\n",
    "optimizer = torch.optim.Adam(model.parameters(), lr=learning_rate)\n",
    "criterion = nn.MSELoss()"
   ]
  },
  {
   "cell_type": "code",
   "execution_count": null,
   "metadata": {},
   "outputs": [],
   "source": [
    "print(torch.cuda.memory_summary())"
   ]
  },
  {
   "cell_type": "code",
   "execution_count": null,
   "metadata": {
    "tags": []
   },
   "outputs": [],
   "source": [
    "# Training\n",
    "test = False\n",
    "epochs = 4\n",
    "\n",
    "start = time()\n",
    "epoch_train_losses = []\n",
    "for i in range(epochs):\n",
    "    tmp_loss = []\n",
    "    for (x, y) in trainloader: # [batch_size x 3 x w x h]\n",
    "        outputs = model(x.to(device))\n",
    "        loss = criterion(outputs, y.to(device))\n",
    "        tmp_loss.append(loss.detach())\n",
    "        \n",
    "        optimizer.zero_grad()\n",
    "        loss.backward()\n",
    "        optimizer.step()\n",
    "        x.detach()\n",
    "        y.detach()\n",
    "    epoch_train_losses.append(torch.tensor(tmp_loss).mean())\n",
    "    print(f\"Epoch {i+1}\")\n",
    "\n",
    "end = time()\n",
    "print(f\"Training took {end - start} seconds for {epochs} epochs, or {(end - start)/epochs} seconds per epochs\")\n",
    "\n",
    "torch.cuda.empty_cache()\n",
    "\n"
   ]
  },
  {
   "cell_type": "code",
   "execution_count": null,
   "metadata": {},
   "outputs": [],
   "source": [
    "plt.plot(range(epochs), epoch_train_losses)"
   ]
  },
  {
   "cell_type": "code",
   "execution_count": null,
   "metadata": {},
   "outputs": [],
   "source": [
    "image_lr, image_hr = trainset[0]"
   ]
  },
  {
   "cell_type": "code",
   "execution_count": null,
   "metadata": {},
   "outputs": [],
   "source": [
    "def show_images(img):\n",
    "    img = img \n",
    "    npimg = img.numpy()\n",
    "    plt.imshow(np.transpose(npimg, (1, 2, 0)))\n",
    "    plt.show()"
   ]
  },
  {
   "cell_type": "code",
   "execution_count": null,
   "metadata": {},
   "outputs": [],
   "source": [
    "show_images(torchvision.utils.make_grid([image_lr]))\n"
   ]
  },
  {
   "cell_type": "code",
   "execution_count": null,
   "metadata": {},
   "outputs": [],
   "source": [
    "show_images(torchvision.utils.make_grid([(image_hr)]))\n"
   ]
  },
  {
   "cell_type": "code",
   "execution_count": null,
   "metadata": {},
   "outputs": [],
   "source": [
    "with torch.no_grad():\n",
    "    ouput_lr = model(image_lr.unsqueeze(0).to(device))\n",
    "show_images(torchvision.utils.make_grid(ouput_lr.cpu().detach()))\n"
   ]
  },
  {
   "cell_type": "code",
   "execution_count": null,
   "metadata": {},
   "outputs": [],
   "source": [
    "with torch.no_grad():\n",
    "    ouput_hr = model(image_hr.unsqueeze(0).to(device))\n",
    "show_images(torchvision.utils.make_grid(ouput_hr.cpu().detach()))\n"
   ]
  },
  {
   "cell_type": "code",
   "execution_count": null,
   "metadata": {},
   "outputs": [],
   "source": [
    "show_images(torchvision.utils.make_grid(list(map(lambda x: x[0], trainset[0:5]))))"
   ]
  },
  {
   "cell_type": "code",
   "execution_count": null,
   "metadata": {},
   "outputs": [],
   "source": [
    "with torch.no_grad():\n",
    "    show_images(torchvision.utils.make_grid(list(map(lambda x: model(x[0].unsqueeze(0).to(device))[0].detach().to(\"cpu\"), trainset[0:5]))))"
   ]
  },
  {
   "cell_type": "code",
   "execution_count": null,
   "metadata": {},
   "outputs": [],
   "source": [
    "x.size()"
   ]
  },
  {
   "cell_type": "code",
   "execution_count": null,
   "metadata": {},
   "outputs": [],
   "source": [
    "print(torch.cuda.memory_summary())"
   ]
  },
  {
   "cell_type": "code",
   "execution_count": null,
   "metadata": {},
   "outputs": [],
   "source": [
    "def test_mem(bs=1, w=256):\n",
    "    x_size = (bs, 3, w, w)\n",
    "    x = torch.rand(x_size)\n",
    "    with torch.no_grad():\n",
    "        y = model(x.to(device))"
   ]
  },
  {
   "cell_type": "code",
   "execution_count": null,
   "metadata": {},
   "outputs": [],
   "source": [
    "# for i in range(40, 800, 20):\n",
    "#     try:\n",
    "#         test_mem(bs=32, w=i)\n",
    "#     except Exception as e:\n",
    "#         print(f\"Largest size was {i-20}\")\n",
    "#         print(e)\n",
    "#         break\n",
    "# Optimal conditions:\n",
    "# Max for bs=1 : 680\n",
    "# Max for bs=2 : 360\n",
    "# Max for bs=4 : 340\n",
    "# Max for bs=8 : 220\n",
    "# Max for bs=16 : 140\n",
    "# Max for bs=32 : 140"
   ]
  },
  {
   "cell_type": "code",
   "execution_count": null,
   "metadata": {},
   "outputs": [],
   "source": [
    "# max_width = []\n",
    "# times = []\n",
    "# pixels = []\n",
    "# step = 20\n",
    "# start_ = 0\n",
    "# end_ = 0\n",
    "# for bs in range(1, 32, 1):\n",
    "#     for w in range(40, 800, step):\n",
    "#         try:\n",
    "#             start=time()\n",
    "#             test_mem(bs=bs, w=w)\n",
    "#             end=time()\n",
    "#         except Exception as e:\n",
    "#             torch.cuda.empty_cache()\n",
    "#             max_width.append(w-step)\n",
    "#             times.append(end_-start_)\n",
    "#             pixels.append((w-step)*(w-step)*bs)\n",
    "#             print(f\"Batch size {bs}, Largest size was {w-step}\")\n",
    "#             print(e)\n",
    "#             break\n",
    "#         finally:\n",
    "#             start_=start\n",
    "#             end_=end"
   ]
  },
  {
   "cell_type": "code",
   "execution_count": null,
   "metadata": {},
   "outputs": [],
   "source": [
    "# plt.plot(range(1, 32), max_width)\n",
    "# plt.plot(range(1, 32), [p/1000 for p in pixels])\n",
    "# plt.plot(range(1, 32), [t*100 for t in times])\n",
    "# plt.plot(range(1, 32), [(p/t)/1000 for p,t in zip(pixels, times)])\n",
    "\n",
    "# plt.xlabel(\"width\")\n",
    "# plt.ylabel(\"batch size\")\n",
    "# plt.savefig(\"batch-size-analysis-complete.pdf\")\n",
    "\n"
   ]
  },
  {
   "cell_type": "code",
   "execution_count": null,
   "metadata": {},
   "outputs": [],
   "source": [
    "# del x\n",
    "torch.cuda.empty_cache()"
   ]
  },
  {
   "cell_type": "code",
   "execution_count": null,
   "metadata": {},
   "outputs": [],
   "source": [
    "x=None\n",
    "y=None\n",
    "if x:\n",
    "    del x\n",
    "if y:\n",
    "    del y\n",
    "torch.cuda.empty_cache()"
   ]
  }
 ]
}