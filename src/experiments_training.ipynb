{
 "metadata": {
  "language_info": {
   "codemirror_mode": {
    "name": "ipython",
    "version": 3
   },
   "file_extension": ".py",
   "mimetype": "text/x-python",
   "name": "python",
   "nbconvert_exporter": "python",
   "pygments_lexer": "ipython3",
   "version": "3.8.8"
  },
  "orig_nbformat": 2,
  "kernelspec": {
   "name": "python388jvsc74a57bd0cfa97515b48ec924051b6584906c775d898061829fcbf4ab570c29d743c4fef7",
   "display_name": "Python 3.8.8 64-bit ('deep_learning': conda)"
  }
 },
 "nbformat": 4,
 "nbformat_minor": 2,
 "cells": [
  {
   "source": [
    "This notebook contains some experiments.\n",
    "It does not contain important code."
   ],
   "cell_type": "markdown",
   "metadata": {}
  },
  {
   "cell_type": "code",
   "execution_count": null,
   "metadata": {},
   "outputs": [],
   "source": [
    "import numpy as np\n",
    "import torch, torchvision\n",
    "import torch.nn as nn\n",
    "from torchvision import datasets\n",
    "import torchvision.transforms as transforms\n",
    "import matplotlib.pyplot as plt \n",
    "from PIL import Image\n",
    "from models.SimpleUpscale import SimpleUpscale\n",
    "from models.SimpleConv import SimpleConv\n",
    "from train import train_model\n",
    "from dataclass.ImageClass import UpscaledImages\n",
    "from time import time\n",
    "from torch.utils.data import Dataset\n",
    "from torchvision.transforms import ToTensor, Resize, Compose\n"
   ]
  },
  {
   "cell_type": "code",
   "execution_count": null,
   "metadata": {},
   "outputs": [],
   "source": [
    "# transform = transforms.Compose([transforms.Resize((32, 32)), \n",
    "#                                 transforms.ToTensor(), \n",
    "#                                 transforms.Normalize((0.5, 0.5, 0.5), (0.5, 0.5, 0.5))]) \n",
    "\n",
    "# trainset = datasets.CIFAR10(root = \"./data\", train=True, download=True, transform=transform)\n",
    "\n",
    "# trainloader = torch.utils.data.DataLoader(trainset, batch_size=100, shuffle=True, num_workers=2)"
   ]
  },
  {
   "cell_type": "code",
   "execution_count": null,
   "metadata": {},
   "outputs": [],
   "source": [
    "# Simple conv test\n",
    "# device = \"cuda:0\" if torch.cuda.is_available() else \"cpu\"\n",
    "# model = SimpleConv().to(device)\n",
    "# learning_rate=0.01\n",
    "# optimizer = torch.optim.Adam(model.parameters(), lr=learning_rate)\n",
    "# criterion = nn.MSELoss()\n",
    "# train_model(model=model, optimizer=optimizer, criterion=criterion, trainloader=trainloader, epochs=5, device=device)"
   ]
  },
  {
   "cell_type": "code",
   "execution_count": null,
   "metadata": {},
   "outputs": [],
   "source": [
    "device = \"cuda:0\" if torch.cuda.is_available() else \"cpu\"\n"
   ]
  },
  {
   "cell_type": "code",
   "execution_count": null,
   "metadata": {},
   "outputs": [],
   "source": [
    "class MicroImages(Dataset):\n",
    "    def __init__(self, root_dir):\n",
    "        \"\"\"Initializes a dataset containing images and labels.\"\"\"\n",
    "        super().__init__()\n",
    "        self.root_dir = root_dir\n",
    "        self.transform_lr = Compose([ToTensor(), Resize((32, 32))])\n",
    "        self.transform_hr = Compose([ToTensor(), Resize((64, 64))])\n",
    "\n",
    "        self.data = []\n",
    "        for i in range(800):\n",
    "            image_hr_dir = self.root_dir + 'DIV2K_train_HR/' + \"{:0>4}\".format(i+1) + '.png'\n",
    "            image_lr_dir = self.root_dir + 'DIV2K_train_LR_bicubic/X2/' + \"{:0>4}x2\".format(i+1) + '.png'\n",
    "            image_hr = Image.open(image_hr_dir)\n",
    "            image_lr = Image.open(image_lr_dir)\n",
    "            self.data.append((self.transform_lr(image_lr), self.transform_hr(image_hr)))\n",
    "\n",
    "        self.size=800\n",
    "\n",
    "    def __len__(self):\n",
    "        \"\"\"Returns the size of the dataset.\"\"\"\n",
    "        return len(self.data)\n",
    "\n",
    "    def __getitem__(self, index):\n",
    "        \"\"\"Returns the index-th data item of the dataset.\"\"\"\n",
    "\n",
    "        return self.data[index]"
   ]
  },
  {
   "cell_type": "code",
   "execution_count": null,
   "metadata": {},
   "outputs": [],
   "source": [
    "# Data set\n",
    "# def collate(batch):\n",
    "#     images_lr = [item[0] for item in batch]\n",
    "#     images_hr = [item[1] for item in batch]\n",
    "#     return [images_lr, images_hr]\n",
    "\n",
    "# trouver un pre processsing, reduire taille image ?, crop ? resize ? \n",
    "# Les images doivent resize (idéalement la plus grande possible)\n",
    "# Refaire un dataset ?\n",
    "\n",
    "# fonctions de vizualization\n",
    "\n",
    "#  Gerer les batch_size, mini_batch ? -> backward seulement \n",
    "\n",
    "transform_lr = transforms.Compose([transforms.ToTensor(), \n",
    "                                torch.nn.ZeroPad2d(128),\n",
    "                                transforms.CenterCrop(128),\n",
    "                                transforms.Normalize((0.5, 0.5, 0.5), (0.5, 0.5, 0.5))]) \n",
    "transform_hr = transforms.Compose([transforms.ToTensor(),\n",
    "                                torch.nn.ZeroPad2d(256),\n",
    "                                transforms.CenterCrop(256)\n",
    "                                ]) \n",
    "trainset = MicroImages(\"../data/\")\n"
   ]
  },
  {
   "cell_type": "code",
   "execution_count": null,
   "metadata": {},
   "outputs": [],
   "source": [
    "torch.cuda.empty_cache()"
   ]
  },
  {
   "cell_type": "code",
   "execution_count": null,
   "metadata": {},
   "outputs": [],
   "source": [
    "class SimpleUpscale(nn.Module):\n",
    "    def __init__(self):\n",
    "        super(SimpleUpscale, self).__init__()\n",
    "\n",
    "        #upsamplin vs conv transpose\n",
    "\n",
    "        # self.net = nn.Sequential(     \n",
    "        #              nn.Conv2d(3,   12, kernel_size=3,  stride=1, padding=1),   nn.BatchNorm2d(12), nn.LeakyReLU(),\n",
    "        #              nn.Conv2d(12,  12, kernel_size=3,  stride=1, padding=1),   nn.BatchNorm2d(12), nn.LeakyReLU(),\n",
    "        #              nn.Conv2d(12,  48, kernel_size=3,  stride=1, padding=1),   nn.BatchNorm2d(48), nn.LeakyReLU(),\n",
    "        #              nn.Conv2d(48,  48, kernel_size=3,  stride=1, padding=1),   nn.BatchNorm2d(48), nn.LeakyReLU(),\n",
    "        #              nn.Conv2d(48,  48, kernel_size=3,  stride=1, padding=1),   nn.BatchNorm2d(48), nn.LeakyReLU(),\n",
    "        #     nn.Conv2d(48,  48, kernel_size=3,  stride=1, padding=1),   nn.BatchNorm2d(48), nn.LeakyReLU(),\n",
    "        #     nn.Conv2d(48,  48, kernel_size=3,  stride=1, padding=1),   nn.BatchNorm2d(48), nn.LeakyReLU(),\n",
    "        #     nn.Upsample(scale_factor=2, mode=\"bicubic\"), nn.BatchNorm2d(48), nn.LeakyReLU(),\n",
    "        #     nn.Conv2d(48,  48, kernel_size=3,  stride=1, padding=1),   nn.BatchNorm2d(48), nn.LeakyReLU(),\n",
    "        #     nn.Conv2d(48,  48, kernel_size=3,  stride=1, padding=1),   nn.BatchNorm2d(48), nn.LeakyReLU(),\n",
    "        #     nn.Conv2d(48,  48, kernel_size=3,  stride=1, padding=1),   nn.BatchNorm2d(48), nn.LeakyReLU(),\n",
    "        #     nn.Conv2d(48,  48, kernel_size=3,  stride=1, padding=1),   nn.BatchNorm2d(48), nn.LeakyReLU(),\n",
    "        #     nn.Conv2d(48,  48, kernel_size=3,  stride=1, padding=1),   nn.BatchNorm2d(48), nn.LeakyReLU(),\n",
    "        #     nn.Conv2d(48,  48, kernel_size=3,  stride=1, padding=1),   nn.BatchNorm2d(48), nn.LeakyReLU(),\n",
    "        #     nn.Conv2d(48,  48, kernel_size=3,  stride=1, padding=1),   nn.BatchNorm2d(48), nn.LeakyReLU(),\n",
    "        #     nn.Conv2d(48,  48, kernel_size=3,  stride=1, padding=1),   nn.BatchNorm2d(48), nn.LeakyReLU(),\n",
    "        #     nn.Conv2d(48,  12, kernel_size=3,  stride=1, padding=1),              nn.BatchNorm2d(12), nn.LeakyReLU(),\n",
    "        #              nn.Conv2d(12,  12, kernel_size=3,  stride=1, padding=1),   nn.BatchNorm2d(12), nn.LeakyReLU(),\n",
    "        #              nn.Conv2d(12,   3, kernel_size=3,  stride=1, padding=1),   nn.BatchNorm2d(3), nn.LeakyReLU(),\n",
    "        #              nn.Conv2d(3,    3, kernel_size=3,  stride=1, padding=1))\n",
    "            \n",
    "        self.net2 = nn.Sequential(     \n",
    "            nn.Conv2d(3,   48, kernel_size=3,  stride=2, padding=1),   nn.BatchNorm2d(48), nn.LeakyReLU(),\n",
    "            nn.Conv2d(48,   48, kernel_size=3,  stride=1, padding=1),   nn.BatchNorm2d(48), nn.LeakyReLU(), # opt\n",
    "            nn.Conv2d(48,   96, kernel_size=3,  stride=2, padding=1),   nn.BatchNorm2d(96), nn.LeakyReLU(), #opt\n",
    "            nn.Conv2d(96,   96, kernel_size=3,  stride=1, padding=1),   nn.BatchNorm2d(96), nn.LeakyReLU(), # opt\n",
    "            nn.Upsample(scale_factor=2, mode=\"bicubic\"), nn.BatchNorm2d(96), nn.LeakyReLU(), #opt\n",
    "            nn.Conv2d(96,   96, kernel_size=3,  stride=1, padding=1),   nn.BatchNorm2d(96), nn.LeakyReLU(), # opt\n",
    "            nn.Upsample(scale_factor=2, mode=\"bicubic\"), nn.BatchNorm2d(96), nn.LeakyReLU(),\n",
    "            nn.Conv2d(96,   48, kernel_size=3,  stride=1, padding=1),   nn.BatchNorm2d(48), nn.LeakyReLU(),\n",
    "            nn.Upsample(scale_factor=2, mode=\"bicubic\"), nn.BatchNorm2d(48), nn.LeakyReLU(),\n",
    "            nn.Conv2d(48,   48, kernel_size=3,  stride=1, padding=1),   nn.BatchNorm2d(48), nn.LeakyReLU(),\n",
    "            nn.Conv2d(48,  48, kernel_size=3,  stride=1, padding=1),   nn.BatchNorm2d(48), nn.LeakyReLU(),\n",
    "            nn.Conv2d(48,  48, kernel_size=3,  stride=1, padding=1),   nn.BatchNorm2d(48), nn.LeakyReLU(),\n",
    "            nn.Conv2d(48,  48, kernel_size=3,  stride=1, padding=1),   nn.BatchNorm2d(48), nn.LeakyReLU(),\n",
    "            nn.Conv2d(48,  48, kernel_size=3,  stride=1, padding=1),   nn.BatchNorm2d(48), nn.LeakyReLU(),\n",
    "            nn.Conv2d(48,  48, kernel_size=3,  stride=1, padding=1),   nn.BatchNorm2d(48), nn.LeakyReLU(),\n",
    "            nn.Conv2d(48,  48, kernel_size=3,  stride=1, padding=1),   nn.BatchNorm2d(48), nn.LeakyReLU(),\n",
    "            nn.Conv2d(48,  48, kernel_size=3,  stride=1, padding=1),   nn.BatchNorm2d(48), nn.LeakyReLU(),\n",
    "            nn.Conv2d(48,  48, kernel_size=3,  stride=1, padding=1),   nn.BatchNorm2d(48), nn.LeakyReLU(),\n",
    "            nn.Conv2d(48,  48, kernel_size=3,  stride=1, padding=1),   nn.BatchNorm2d(48), nn.LeakyReLU(),\n",
    "            nn.Conv2d(48,  48, kernel_size=3,  stride=1, padding=1),   nn.BatchNorm2d(48), nn.LeakyReLU(),\n",
    "            nn.Conv2d(48,  48, kernel_size=3,  stride=1, padding=1),   nn.BatchNorm2d(48), nn.LeakyReLU(),\n",
    "            nn.Conv2d(48,  12, kernel_size=3,  stride=1, padding=1),              nn.BatchNorm2d(12), nn.LeakyReLU(),\n",
    "                     nn.Conv2d(12,  12, kernel_size=3,  stride=1, padding=1),   nn.BatchNorm2d(12), nn.LeakyReLU(),\n",
    "                     nn.Conv2d(12,   3, kernel_size=3,  stride=1, padding=1),   nn.BatchNorm2d(3), nn.LeakyReLU(),\n",
    "                     nn.Conv2d(3,    3, kernel_size=3,  stride=1, padding=1))\n",
    "\n",
    "    def forward(self, x):\n",
    "        return self.net2(x)"
   ]
  },
  {
   "cell_type": "code",
   "execution_count": null,
   "metadata": {},
   "outputs": [],
   "source": [
    "trainloader = torch.utils.data.DataLoader(trainset, batch_size=20, shuffle=True)"
   ]
  },
  {
   "cell_type": "code",
   "execution_count": null,
   "metadata": {},
   "outputs": [],
   "source": [
    "model = SimpleUpscale().to(device)\n",
    "learning_rate=0.0005\n",
    "optimizer = torch.optim.Adam(model.parameters(), lr=learning_rate)\n",
    "criterion = nn.MSELoss()"
   ]
  },
  {
   "cell_type": "code",
   "execution_count": null,
   "metadata": {},
   "outputs": [],
   "source": [
    "print(torch.cuda.memory_summary())"
   ]
  },
  {
   "cell_type": "code",
   "execution_count": null,
   "metadata": {
    "tags": []
   },
   "outputs": [],
   "source": [
    "# Training\n",
    "test = False\n",
    "epochs = 16\n",
    "\n",
    "start = time()\n",
    "epoch_train_losses = []\n",
    "for i in range(epochs):\n",
    "    tmp_loss = []\n",
    "    for (x, y) in trainloader: # [batch_size x 3 x w x h]\n",
    "        outputs = model(x.to(device))\n",
    "        loss = criterion(outputs, y.to(device))\n",
    "        tmp_loss.append(loss.detach())\n",
    "        \n",
    "        optimizer.zero_grad()\n",
    "        loss.backward()\n",
    "        optimizer.step()\n",
    "        x.detach()\n",
    "        y.detach()\n",
    "    epoch_train_losses.append(torch.tensor(tmp_loss).mean())\n",
    "    print(f\"Epoch {i+1}\")\n",
    "\n",
    "end = time()\n",
    "print(f\"Training took {end - start} seconds for {epochs} epochs, or {(end - start)/epochs} seconds per epochs\")\n",
    "\n",
    "torch.cuda.empty_cache()\n",
    "\n"
   ]
  },
  {
   "cell_type": "code",
   "execution_count": null,
   "metadata": {},
   "outputs": [],
   "source": [
    "plt.plot(range(epochs), epoch_train_losses)"
   ]
  },
  {
   "cell_type": "code",
   "execution_count": null,
   "metadata": {},
   "outputs": [],
   "source": [
    "# hr_size = []\n",
    "# lr_size = []\n",
    "# for image_lr, image_hr in dataset:\n",
    "#     hr_size.append(image_hr.size())\n",
    "#     lr_size.append(image_hr.size())"
   ]
  },
  {
   "cell_type": "code",
   "execution_count": null,
   "metadata": {},
   "outputs": [],
   "source": [
    "image_lr, image_hr = trainset[0]"
   ]
  },
  {
   "cell_type": "code",
   "execution_count": null,
   "metadata": {},
   "outputs": [],
   "source": [
    "image_lr.size()"
   ]
  },
  {
   "cell_type": "code",
   "execution_count": null,
   "metadata": {},
   "outputs": [],
   "source": [
    "image_lr_cropped = transforms.CenterCrop((800, 800))(torch.nn.ZeroPad2d(800)(image_lr))\n",
    "image_lr_cropped.size()"
   ]
  },
  {
   "cell_type": "code",
   "execution_count": null,
   "metadata": {},
   "outputs": [],
   "source": [
    "def show_images(img):\n",
    "    img = img \n",
    "    npimg = img.numpy()\n",
    "    plt.imshow(np.transpose(npimg, (1, 2, 0)))\n",
    "    plt.show()"
   ]
  },
  {
   "cell_type": "code",
   "execution_count": null,
   "metadata": {},
   "outputs": [],
   "source": [
    "show_images(torchvision.utils.make_grid([image_lr]))\n"
   ]
  },
  {
   "cell_type": "code",
   "execution_count": null,
   "metadata": {},
   "outputs": [],
   "source": [
    "show_images(torchvision.utils.make_grid([(image_hr)]))\n"
   ]
  },
  {
   "cell_type": "code",
   "execution_count": null,
   "metadata": {},
   "outputs": [],
   "source": [
    "# from dataclass.ImageClass import UpscaledImages\n",
    "# reload(UpscaledImages)\n",
    "# import \n",
    "\n",
    "ouput_hr = model(image_hr.unsqueeze(0).to(device))"
   ]
  },
  {
   "cell_type": "code",
   "execution_count": null,
   "metadata": {},
   "outputs": [],
   "source": [
    "show_images(torchvision.utils.make_grid(ouput_hr.cpu().detach()))\n"
   ]
  },
  {
   "cell_type": "code",
   "execution_count": null,
   "metadata": {},
   "outputs": [],
   "source": [
    "show_images(torchvision.utils.make_grid(list(map(lambda x: x[0], trainset[0:5]))))"
   ]
  },
  {
   "source": [
    "GAN: \n",
    "Generator :\n",
    "Sequence de bloque convolutionel, upsampling, Sequence de bloque convolutionel\n",
    "\n",
    "Discriminator :\n",
    "Convolution jusqua arriver a un output scalaire. [0, 1]"
   ],
   "cell_type": "markdown",
   "metadata": {}
  },
  {
   "cell_type": "code",
   "execution_count": null,
   "metadata": {},
   "outputs": [],
   "source": [
    "show_images(torchvision.utils.make_grid(list(map(lambda x: model(x[0].unsqueeze(0).to(device))[0].detach().to(\"cpu\"), trainset[0:5]))))"
   ]
  },
  {
   "cell_type": "code",
   "execution_count": null,
   "metadata": {},
   "outputs": [],
   "source": [
    "torch.cuda.empty_cache()"
   ]
  },
  {
   "cell_type": "code",
   "execution_count": null,
   "metadata": {},
   "outputs": [],
   "source": [
    "rec_image = model(image_hr.unsqueeze(0).to(device))\n",
    "rec_image = rec_image.to(device)\n",
    "rec_image = model(rec_image)\n",
    "rec_image = model(rec_image)\n",
    "show_images(torchvision.utils.make_grid(rec_image.cpu().detach()))"
   ]
  },
  {
   "cell_type": "code",
   "execution_count": null,
   "metadata": {},
   "outputs": [],
   "source": [
    "mem_params = sum([param.nelement()*param.element_size() for param in model.parameters()])\n",
    "mem_bufs = sum([buf.nelement()*buf.element_size() for buf in model.buffers()])\n",
    "mem = mem_params + mem_bufs # in bytes\n",
    "print(f\"model is {mem} bytes, {mem/(1024**2)} megabytes\")"
   ]
  },
  {
   "source": [
    "Autoencoder"
   ],
   "cell_type": "markdown",
   "metadata": {}
  },
  {
   "cell_type": "code",
   "execution_count": null,
   "metadata": {},
   "outputs": [],
   "source": [
    "import numpy as np\n",
    "import torch, torchvision\n",
    "import torch.nn as nn\n",
    "from torchvision import datasets\n",
    "import torchvision.transforms as transforms\n",
    "import matplotlib.pyplot as plt \n",
    "from PIL import Image"
   ]
  },
  {
   "cell_type": "code",
   "execution_count": null,
   "metadata": {},
   "outputs": [],
   "source": [
    "def show_images(img):\n",
    "    img = img \n",
    "    npimg = img.numpy()\n",
    "    plt.imshow(np.transpose(npimg, (1, 2, 0)))\n",
    "    plt.show()"
   ]
  },
  {
   "cell_type": "code",
   "execution_count": null,
   "metadata": {},
   "outputs": [],
   "source": [
    "transform = transforms.Compose([transforms.Resize((32, 32)),\n",
    "                                transforms .ToTensor(),\n",
    "                                transforms.Normalize((0.5, 0.5, 0.5), (0.5, 0.5, 0.5))]) # write the sequence of appropriate transformations\n",
    "trainset = datasets.CIFAR10(root=\"./data\", train=True, download=True, transform=transform)\n",
    "trainloader = torch.utils.data.DataLoader(trainset, batch_size=4, shuffle=True, num_workers=2)\n"
   ]
  }
 ]
}