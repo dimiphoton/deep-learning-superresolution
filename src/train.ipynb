{
 "metadata": {
  "language_info": {
   "codemirror_mode": {
    "name": "ipython",
    "version": 3
   },
   "file_extension": ".py",
   "mimetype": "text/x-python",
   "name": "python",
   "nbconvert_exporter": "python",
   "pygments_lexer": "ipython3",
   "version": "3.8.8"
  },
  "orig_nbformat": 2,
  "kernelspec": {
   "name": "python388jvsc74a57bd0cfa97515b48ec924051b6584906c775d898061829fcbf4ab570c29d743c4fef7",
   "display_name": "Python 3.8.8 64-bit ('deep_learning': conda)"
  }
 },
 "nbformat": 4,
 "nbformat_minor": 2,
 "cells": [
  {
   "source": [
    "Training of the SRGAN"
   ],
   "cell_type": "markdown",
   "metadata": {}
  },
  {
   "source": [
    "This notebook call the training function. generated models can then be evaluated"
   ],
   "cell_type": "markdown",
   "metadata": {}
  },
  {
   "cell_type": "code",
   "execution_count": null,
   "metadata": {},
   "outputs": [],
   "source": [
    "from train import train_gan\n",
    "from dataclass.MicroImageClass import MicroImages\n",
    "import torch\n",
    "from matplotlib import pyplot as plt\n",
    "from dataclass.prepare_data import prepare_datasets\n",
    "from dataclass.dataset import ImagesDataset, convert_image\n",
    "import torchvision\n",
    "import numpy as np\n",
    "from torchvision.utils import save_image\n",
    "from models.Generator import GeneratorV0\n",
    "from piqa import SSIM"
   ]
  },
  {
   "cell_type": "code",
   "execution_count": null,
   "metadata": {},
   "outputs": [],
   "source": [
    "scaling_factor = 4"
   ]
  },
  {
   "source": [
    "# Some datasets\n",
    "# '../data/DIV2K_train_LR_bicubic/X2'\n",
    "# '../data/DIV2K_train_LR_bicubic/X2'\n",
    "# '../data/DIV2K_train_HR'\n",
    "# '../data/val2014'\n",
    "prepare_datasets(train_folders=['../data/val2014'],\n",
    "                      test_folders=['../data/DIV2K_train_HR'],\n",
    "                      min_size=int(96*3),\n",
    "                      output_folder='dataclass/')"
   ],
   "cell_type": "code",
   "metadata": {},
   "execution_count": null,
   "outputs": []
  },
  {
   "cell_type": "code",
   "execution_count": null,
   "metadata": {},
   "outputs": [],
   "source": [
    "output_format = \"[0, 1]\"\n",
    "input_format = \"[0, 1]\"\n",
    "trainset = ImagesDataset(\"dataclass/\", crop_size=96, scaling_factor=scaling_factor, lr_format=input_format, hr_format=output_format)\n",
    "testset = ImagesDataset(\"dataclass/\", crop_size=96, scaling_factor=scaling_factor, lr_format=input_format, hr_format=output_format, train=False)\n"
   ]
  },
  {
   "cell_type": "code",
   "execution_count": null,
   "metadata": {},
   "outputs": [],
   "source": [
    "model_name = \"new-gan-model\""
   ]
  },
  {
   "cell_type": "code",
   "execution_count": null,
   "metadata": {},
   "outputs": [],
   "source": [
    "torch.cuda.reset_peak_memory_stats()"
   ]
  },
  {
   "cell_type": "code",
   "execution_count": null,
   "metadata": {
    "tags": []
   },
   "outputs": [],
   "source": [
    "# train_gan, for details see train.py\n",
    "gen, dis, g_losses, d_losses, ssim_scores = train_gan(\n",
    "    trainset=trainset,\n",
    "    testset=testset,\n",
    "    batch_size=32,\n",
    "    epochs=8,\n",
    "    lr=0.0001,\n",
    "    gpu=True,\n",
    "    gen_args={\"nbr_channels\": 64, \"nbr_blocks\": 5, \"normalize\": True, \"scaling_factor\": scaling_factor}, \n",
    "    dis_args={\"nbr_channels\": 64},\n",
    "    num_workers=4,\n",
    "    alpha=0.001,\n",
    "    r1_penalty=0.01,\n",
    "    labels=\"smooth\",\n",
    "    content_loss_type=\"MSE_SSIM\",\n",
    "    save_file=\"models/save/\"+model_name+\".pt\")"
   ]
  },
  {
   "cell_type": "code",
   "execution_count": null,
   "metadata": {},
   "outputs": [],
   "source": [
    "plt.plot([x * 32 for x in range(len(g_losses))], g_losses)\n",
    "plt.xlabel(\"Iterations\")\n",
    "plt.ylabel(\"Generator loss\")\n",
    "plt.title(\"Generator loss\")\n",
    "plt.savefig('figures/gen_loss_'+model_name+'.pdf')"
   ]
  },
  {
   "cell_type": "code",
   "execution_count": null,
   "metadata": {},
   "outputs": [],
   "source": [
    "plt.plot([x * 32 for x in range(len(d_losses))], d_losses)\n",
    "plt.xlabel(\"Iterations\")\n",
    "plt.ylabel(\"Discriminator loss\")\n",
    "plt.title(\"Discriminator loss\")\n",
    "plt.savefig('figures/dis_loss_'+model_name+'.pdf')"
   ]
  },
  {
   "cell_type": "code",
   "execution_count": null,
   "metadata": {},
   "outputs": [],
   "source": [
    "if trainset is not None and ssim_scores:\n",
    "    plt.plot(range(len(ssim_scores)), ssim_scores)\n",
    "    plt.xlabel(\"Epochs\")\n",
    "    plt.ylim((0, 1.0))\n",
    "    plt.ylabel(\"SSIM score\")\n",
    "    plt.title(\"SSIM score\")\n",
    "    plt.savefig('figures/ssim_score_'+model_name+'.pdf')"
   ]
  },
  {
   "cell_type": "code",
   "execution_count": null,
   "metadata": {},
   "outputs": [],
   "source": [
    "gen.eval() # vs gen.train()\n"
   ]
  },
  {
   "cell_type": "code",
   "execution_count": null,
   "metadata": {},
   "outputs": [],
   "source": [
    "evalset = ImagesDataset(\"dataclass/\", crop_size=200, scaling_factor=scaling_factor, lr_format=input_format, hr_format=output_format, train=False)\n",
    "evalset_x2 = ImagesDataset(\"dataclass/\", crop_size=96, scaling_factor=2, lr_format=input_format, hr_format=output_format, train=True)\n",
    "evalset_x4 = ImagesDataset(\"dataclass/\", crop_size=96, scaling_factor=4, lr_format=input_format, hr_format=output_format, train=True)"
   ]
  },
  {
   "cell_type": "code",
   "execution_count": null,
   "metadata": {},
   "outputs": [],
   "source": [
    "# Some function to look at output of the trained model\n",
    "def show_images(img):\n",
    "    img = img \n",
    "    npimg = img.numpy()\n",
    "    plt.imshow(np.transpose(npimg, (1, 2, 0)))\n",
    "    plt.show()\n",
    "\n",
    "def show_input_images(index: int, evalset):\n",
    "    image_lr, image_hr = evalset[index]\n",
    "    image_lr = convert_image(image_lr, input_format, \"[0, 1]\")\n",
    "    image_hr = convert_image(image_hr, output_format, \"[0, 1]\")\n",
    "    show_images(torchvision.utils.make_grid([image_lr]))\n",
    "    show_images(torchvision.utils.make_grid([image_hr]))\n",
    "\n",
    "def compare_hr_images(model, evalset, device=\"cuda:0\", index=0):\n",
    "    image_lr, image_hr = evalset[index]\n",
    "    with torch.no_grad():\n",
    "        ouput_lr = model(image_lr.unsqueeze(0).to(device))\n",
    "        ouput_lr = convert_image(ouput_lr, output_format, \"[0, 1]\")\n",
    "    image_hr = convert_image(image_hr, output_format, \"[0, 1]\")\n",
    "    show_images(torchvision.utils.make_grid([image_hr, ouput_lr.cpu().detach()[0]]))\n",
    "\n",
    "def compare_hr_images_with_input(model, evalset, device=\"cuda:0\", index=0):\n",
    "    image_lr, image_hr = evalset[index]\n",
    "    with torch.no_grad():\n",
    "        ouput_lr = model(image_lr.unsqueeze(0).to(device))\n",
    "        ouput_lr = convert_image(ouput_lr, output_format, \"[0, 1]\")\n",
    "    image_hr = convert_image(image_hr, output_format, \"[0, 1]\")\n",
    "    show_images(torchvision.utils.make_grid([image_lr]))\n",
    "    show_images(torchvision.utils.make_grid([image_hr, ouput_lr.cpu().detach()[0]]))\n",
    "\n",
    "def compare_hr_images_x4(model, device=\"cuda:0\", index=0):\n",
    "    image_lr, image_hr = evalset_x4[index]\n",
    "    with torch.no_grad():\n",
    "        ouput_lr = model(image_lr.unsqueeze(0).to(device))\n",
    "        ouput_lr = model(convert_image(ouput_lr, output_format, input_format))\n",
    "        ouput_lr = convert_image(ouput_lr, output_format, \"[0, 1]\")\n",
    "    image_hr = convert_image(image_hr, output_format, \"[0, 1]\")\n",
    "    show_images(torchvision.utils.make_grid([image_hr, ouput_lr.cpu().detach()[0]]))\n",
    "\n",
    "def compare_hr_images_x4_and_save(model, device=\"cuda:0\", index=0, name=\"\"):\n",
    "    image_lr, image_hr = evalset_x4[index]\n",
    "    with torch.no_grad():\n",
    "        ouput_lr = model(image_lr.unsqueeze(0).to(device))\n",
    "        ouput_lr = model(convert_image(ouput_lr, output_format, input_format))\n",
    "        ouput_lr = convert_image(ouput_lr, output_format, \"[0, 1]\")\n",
    "    image_hr = convert_image(image_hr, output_format, \"[0, 1]\")\n",
    "    show_images(torchvision.utils.make_grid([image_hr, ouput_lr.cpu().detach()[0]]))\n",
    "    save_image(image_hr, \"figures/\" + model_name + \"_\"+name+ \"_real_x4.png\")\n",
    "    save_image(ouput_lr, \"figures/\" + model_name + \"_\" +name+\"_fake_x4.png\")\n",
    "\n",
    "def compare_hr_images_and_save(model, evalset, device=\"cuda:0\", index=0, name=''):\n",
    "    image_lr, image_hr = evalset[index]\n",
    "    with torch.no_grad():\n",
    "        ouput_lr = model(image_lr.unsqueeze(0).to(device))\n",
    "        ouput_lr = convert_image(ouput_lr, output_format, \"[0, 1]\")\n",
    "    image_hr = convert_image(image_hr, output_format, \"[0, 1]\")\n",
    "    show_images(torchvision.utils.make_grid([image_hr, ouput_lr.cpu().detach()[0]]))\n",
    "    save_image(image_hr, \"figures/\" + model_name + \"_\"+name+ \"_real.png\")\n",
    "    save_image(ouput_lr, \"figures/\" + model_name + \"_\" +name+\"_fake.png\")\n",
    "\n"
   ]
  },
  {
   "cell_type": "code",
   "execution_count": null,
   "metadata": {},
   "outputs": [],
   "source": [
    "show_input_images(4, evalset)"
   ]
  },
  {
   "cell_type": "code",
   "execution_count": null,
   "metadata": {},
   "outputs": [],
   "source": [
    "compare_hr_images(gen, evalset, 0)"
   ]
  },
  {
   "cell_type": "code",
   "execution_count": null,
   "metadata": {},
   "outputs": [],
   "source": [
    "compare_hr_images(gen, evalset, index=1)"
   ]
  },
  {
   "cell_type": "code",
   "execution_count": null,
   "metadata": {},
   "outputs": [],
   "source": [
    "compare_hr_images(gen, evalset, index=2)"
   ]
  },
  {
   "cell_type": "code",
   "execution_count": null,
   "metadata": {},
   "outputs": [],
   "source": [
    "compare_hr_images(gen, evalset, index=3)"
   ]
  },
  {
   "cell_type": "code",
   "execution_count": null,
   "metadata": {},
   "outputs": [],
   "source": [
    "compare_hr_images(gen, evalset, index=4)"
   ]
  },
  {
   "cell_type": "code",
   "execution_count": null,
   "metadata": {},
   "outputs": [],
   "source": [
    "compare_hr_images(gen, evalset, index=5)"
   ]
  },
  {
   "cell_type": "code",
   "execution_count": null,
   "metadata": {},
   "outputs": [],
   "source": [
    "compare_hr_images(gen, evalset, index=6)"
   ]
  },
  {
   "source": [
    "Comparing with previous models"
   ],
   "cell_type": "markdown",
   "metadata": {}
  },
  {
   "source": [
    "Quatlity + test ssim comme loss function + rapport + tested avec crop size plus grandre"
   ],
   "cell_type": "markdown",
   "metadata": {}
  },
  {
   "cell_type": "code",
   "execution_count": null,
   "metadata": {},
   "outputs": [],
   "source": [
    "from ignite.metrics import SSIM\n",
    "def test_ssim_score(model, testset, device=\"cuda:0\"):\n",
    "    testloader = torch.utils.data.DataLoader(testset, batch_size=8, shuffle=True)\n",
    "    test_ssim = SSIM(data_range=1.0, device=\"cpu\")\n",
    "    model.to(device)\n",
    "    for (x, y) in testloader:  # [batch_size x 3 x w x h]\n",
    "        outputs = model(x.to(device))\n",
    "        test_ssim.update((outputs, y.to(device)))\n",
    "    ssim_score =  test_ssim.compute()\n",
    "    # print(f'ssim score: {ssim_score}')\n",
    "    test_ssim.reset()\n",
    "    return ssim_score"
   ]
  },
  {
   "cell_type": "code",
   "execution_count": null,
   "metadata": {},
   "outputs": [],
   "source": [
    "# test_ssim_score(gen, testset=testset, device=\"cuda:0\")"
   ]
  }
 ]
}